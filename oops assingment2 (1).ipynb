{
 "cells": [
  {
   "cell_type": "markdown",
   "id": "1ffb6f08-c0cc-4a96-8bd4-99a901e915a7",
   "metadata": {},
   "source": [
    "What is Abstraction in OOps? Explain with an example."
   ]
  },
  {
   "cell_type": "markdown",
   "id": "8c1306f0-61a4-4f4a-9367-4345f18517f1",
   "metadata": {},
   "source": [
    "Abstraction In OOP\n",
    "In simple terms, abstraction “displays” only the relevant attributes of objects and “hides” the unnecessary details. For example, when we are driving a car, we are only concerned about driving the car like start/stop the car, accelerate/ break, etc.\n"
   ]
  },
  {
   "cell_type": "code",
   "execution_count": 6,
   "id": "5802cc3a-5478-433e-b1c2-ee3c7f50889d",
   "metadata": {},
   "outputs": [],
   "source": [
    "import abc\n",
    "class calculation:\n",
    "    @abc.abstractmethod\n",
    "    def add(self):\n",
    "        pass\n",
    "    def sub(self):\n",
    "        pass\n",
    "class cal(calculation):\n",
    "    def __init__(self,a,b):\n",
    "        self.a=a\n",
    "        self.b=b\n",
    "    def add(self):\n",
    "        return self.a+self.b\n",
    "    def sub(self):\n",
    "        return self.a-self.b"
   ]
  },
  {
   "cell_type": "code",
   "execution_count": 7,
   "id": "252e9187-e778-4911-887d-8db7e8663153",
   "metadata": {},
   "outputs": [],
   "source": [
    "obj=cal(10,5)"
   ]
  },
  {
   "cell_type": "code",
   "execution_count": 8,
   "id": "3ef93497-ad6f-4523-8d43-01d0dc30c184",
   "metadata": {},
   "outputs": [
    {
     "data": {
      "text/plain": [
       "15"
      ]
     },
     "execution_count": 8,
     "metadata": {},
     "output_type": "execute_result"
    }
   ],
   "source": [
    "obj.add()"
   ]
  },
  {
   "cell_type": "code",
   "execution_count": 9,
   "id": "8afa85d5-a78f-497e-a71f-62e80689dca9",
   "metadata": {},
   "outputs": [
    {
     "data": {
      "text/plain": [
       "5"
      ]
     },
     "execution_count": 9,
     "metadata": {},
     "output_type": "execute_result"
    }
   ],
   "source": [
    "obj.sub()"
   ]
  },
  {
   "cell_type": "markdown",
   "id": "660d081e-9d4e-43f7-8f77-a64f9e3d6bf5",
   "metadata": {},
   "source": [
    "Q2. Differentiate between Abstraction and Encapsulation. Explain with an example."
   ]
  },
  {
   "cell_type": "markdown",
   "id": "a7c5551b-2c5a-470e-b4c6-755740b99318",
   "metadata": {},
   "source": [
    "Abstraction is a way of representing some specific data. Encapsulation is a way of hiding the complexity of something and exposing only the parts you wish to expose. For example, if you have a class that has one or more private fields that you use to store the data, then you are in encapsulation.\n"
   ]
  },
  {
   "cell_type": "code",
   "execution_count": 16,
   "id": "ab923b48-c1c1-4048-9a52-3f0d021e88dc",
   "metadata": {},
   "outputs": [
    {
     "ename": "SyntaxError",
     "evalue": "invalid syntax (493811940.py, line 1)",
     "output_type": "error",
     "traceback": [
      "\u001b[0;36m  Cell \u001b[0;32mIn[16], line 1\u001b[0;36m\u001b[0m\n\u001b[0;31m    encapsulation:\u001b[0m\n\u001b[0m                  ^\u001b[0m\n\u001b[0;31mSyntaxError\u001b[0m\u001b[0;31m:\u001b[0m invalid syntax\n"
     ]
    }
   ],
   "source": [
    "encapsulation:\n",
    "class Car:\n",
    "    def __init__(self, make, model, year):\n",
    "        self.make = make\n",
    "        self.model = model\n",
    "        self.year = year\n",
    "        self.__mileage = 0  # Encapsulated private attribute\n",
    "\n",
    "    def drive(self, miles):\n",
    "        self.__mileage += miles\n",
    "\n",
    "    def get_mileage(self):\n",
    "        return self.__mileage\n",
    "\n",
    "# Create a car object\n",
    "my_car = Car(\"Toyota\", \"Camry\", 2022)\n",
    "\n",
    "# Access public attributes and methods\n",
    "print(my_car.make)  # Output: Toyota\n",
    "my_car.drive(100)\n",
    "print(my_car.get_mileage())  # Output: 100\n",
    "\n",
    "# Attempting to access the private attribute directly raises an error\n",
    "# print(my_car.__mileage)  # Raises AttributeError\n"
   ]
  },
  {
   "cell_type": "code",
   "execution_count": 20,
   "id": "3cb50025-e842-4b54-83ce-d899cb8357b5",
   "metadata": {},
   "outputs": [],
   "source": [
    "#encapsulation:\n",
    "class Car:\n",
    "    def __init__(self, make, model, year):\n",
    "        self.make = make\n",
    "        self.model = model\n",
    "        self.year = year\n",
    "        self.__mileage = 0  # Encapsulated private attribute\n",
    "\n",
    "    def drive(self, miles):\n",
    "        self.__mileage += miles\n",
    "\n",
    "    def get_mileage(self):\n",
    "        return self.__mileage"
   ]
  },
  {
   "cell_type": "code",
   "execution_count": 22,
   "id": "c33ca0c4-0aa7-4406-99fb-2d5533b7ff97",
   "metadata": {},
   "outputs": [],
   "source": [
    "#create a obj\n",
    "my_car=Car(\"tata\",\"samry\",2023)"
   ]
  },
  {
   "cell_type": "code",
   "execution_count": 23,
   "id": "fdbbc604-b718-4232-941e-a299ba9c2a35",
   "metadata": {},
   "outputs": [
    {
     "name": "stdout",
     "output_type": "stream",
     "text": [
      "tata\n"
     ]
    }
   ],
   "source": [
    "# Access public attributes and methods\n",
    "print(my_car.make)"
   ]
  },
  {
   "cell_type": "code",
   "execution_count": 24,
   "id": "b793fd69-21f5-4f25-9f2d-f3eaad22d2e1",
   "metadata": {},
   "outputs": [],
   "source": [
    "my_car.drive(100)"
   ]
  },
  {
   "cell_type": "code",
   "execution_count": 25,
   "id": "ccafc4fc-8b6b-4cfa-b71d-e7476896ee5e",
   "metadata": {},
   "outputs": [
    {
     "data": {
      "text/plain": [
       "100"
      ]
     },
     "execution_count": 25,
     "metadata": {},
     "output_type": "execute_result"
    }
   ],
   "source": [
    "my_car.get_mileage()"
   ]
  },
  {
   "cell_type": "markdown",
   "id": "2ad7af46-45cd-4d57-9e11-6ef4ca6f7790",
   "metadata": {},
   "source": [
    "Q3. What is abc module in python? Why is it used?"
   ]
  },
  {
   "cell_type": "markdown",
   "id": "66b10424-ffa2-41f7-9645-55593eca9ac5",
   "metadata": {},
   "source": [
    "The 'abc' module in Python library provides the infrastructure for defining custom abstract base classes. 'abc' works by marking methods of the base class as abstract. This is done by @absttractmethod decorator"
   ]
  },
  {
   "cell_type": "markdown",
   "id": "89af21e4-5fdc-4f05-b18e-cb0da47fa840",
   "metadata": {},
   "source": [
    "Q4. How can we achieve data abstraction?"
   ]
  },
  {
   "cell_type": "markdown",
   "id": "9e2e6500-557f-442a-aa28-f2335e2e7795",
   "metadata": {},
   "source": [
    "In Python, abstraction can be achieved by having/using abstract classes and methods in our programs. Understanding Abstract Methods and Classes: An abstract method is a method that is declared, but does not contain implementation.\n"
   ]
  },
  {
   "cell_type": "markdown",
   "id": "2129bb82-1471-473a-b537-80e94fab8089",
   "metadata": {},
   "source": [
    "Q5. Can we create an instance of an abstract class? Explain your answer."
   ]
  },
  {
   "cell_type": "markdown",
   "id": "d36368ee-eeac-4baa-aa1c-768a7690ff10",
   "metadata": {},
   "source": [
    "No, we can't create an object of an abstract class. But we can create a reference variable of an abstract class. The reference variable is used to refer to the objects of derived classes (subclasses of abstract class)\n"
   ]
  }
 ],
 "metadata": {
  "kernelspec": {
   "display_name": "Python 3 (ipykernel)",
   "language": "python",
   "name": "python3"
  },
  "language_info": {
   "codemirror_mode": {
    "name": "ipython",
    "version": 3
   },
   "file_extension": ".py",
   "mimetype": "text/x-python",
   "name": "python",
   "nbconvert_exporter": "python",
   "pygments_lexer": "ipython3",
   "version": "3.10.8"
  }
 },
 "nbformat": 4,
 "nbformat_minor": 5
}
