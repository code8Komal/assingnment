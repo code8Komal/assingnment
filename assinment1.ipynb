{
 "cells": [
  {
   "cell_type": "markdown",
   "id": "c0c69a5d-b259-442e-b3f1-1f299d3a4aec",
   "metadata": {},
   "source": [
    "Q1"
   ]
  },
  {
   "cell_type": "code",
   "execution_count": 1,
   "id": "52be9679-3c15-45ca-bc70-47731c0f03c3",
   "metadata": {},
   "outputs": [],
   "source": [
    "#string\n",
    "k='komal'"
   ]
  },
  {
   "cell_type": "code",
   "execution_count": 3,
   "id": "0750fda2-c13e-4d53-880e-49e844bed8e2",
   "metadata": {},
   "outputs": [
    {
     "data": {
      "text/plain": [
       "str"
      ]
     },
     "execution_count": 3,
     "metadata": {},
     "output_type": "execute_result"
    }
   ],
   "source": [
    "type(k)"
   ]
  },
  {
   "cell_type": "code",
   "execution_count": 2,
   "id": "2c7a1caa-2b2e-4c1d-a3b0-2f97c0633c8c",
   "metadata": {},
   "outputs": [],
   "source": [
    "#lists\n",
    "l=[1,2,3,4]"
   ]
  },
  {
   "cell_type": "code",
   "execution_count": 4,
   "id": "510ac64d-a386-460f-a8ed-c8427d8873ee",
   "metadata": {},
   "outputs": [
    {
     "data": {
      "text/plain": [
       "list"
      ]
     },
     "execution_count": 4,
     "metadata": {},
     "output_type": "execute_result"
    }
   ],
   "source": [
    "type(l)"
   ]
  },
  {
   "cell_type": "code",
   "execution_count": 5,
   "id": "afd6def9-938f-48df-81f2-89b6dfb0c191",
   "metadata": {},
   "outputs": [],
   "source": [
    "#float\n",
    "a=4.45"
   ]
  },
  {
   "cell_type": "code",
   "execution_count": 6,
   "id": "ba51d5b2-b7ff-4e6e-b931-58d3570128a6",
   "metadata": {},
   "outputs": [
    {
     "data": {
      "text/plain": [
       "float"
      ]
     },
     "execution_count": 6,
     "metadata": {},
     "output_type": "execute_result"
    }
   ],
   "source": [
    "type(a)"
   ]
  },
  {
   "cell_type": "code",
   "execution_count": 7,
   "id": "4fec939a-6a9e-4166-a890-7b4608d5f671",
   "metadata": {},
   "outputs": [],
   "source": [
    "#tuple\n",
    "t=(1,2,3.0,True,'pwskill')"
   ]
  },
  {
   "cell_type": "code",
   "execution_count": 8,
   "id": "34440e6e-a91e-4996-9373-7af4447f8bb7",
   "metadata": {},
   "outputs": [
    {
     "data": {
      "text/plain": [
       "tuple"
      ]
     },
     "execution_count": 8,
     "metadata": {},
     "output_type": "execute_result"
    }
   ],
   "source": [
    "type(t)"
   ]
  },
  {
   "cell_type": "markdown",
   "id": "5794555a-024d-4887-bc7c-d1ba54a26474",
   "metadata": {},
   "source": [
    "Q2"
   ]
  },
  {
   "cell_type": "code",
   "execution_count": 10,
   "id": "fba08b93-9812-44ae-95d5-ccfc589f5735",
   "metadata": {},
   "outputs": [],
   "source": [
    "\tvar1 = ' '"
   ]
  },
  {
   "cell_type": "code",
   "execution_count": 11,
   "id": "9ccc5c11-bb41-4ef9-b13c-27bb47ce9418",
   "metadata": {},
   "outputs": [
    {
     "data": {
      "text/plain": [
       "str"
      ]
     },
     "execution_count": 11,
     "metadata": {},
     "output_type": "execute_result"
    }
   ],
   "source": [
    "type(var1)"
   ]
  },
  {
   "cell_type": "code",
   "execution_count": 12,
   "id": "8d983f11-b909-47d7-af6b-75a147f1cd2d",
   "metadata": {},
   "outputs": [],
   "source": [
    "\tvar2 = '[ DS , ML , Python]'"
   ]
  },
  {
   "cell_type": "code",
   "execution_count": 13,
   "id": "8924ddab-822b-4f3e-bd47-d8cde725b457",
   "metadata": {},
   "outputs": [
    {
     "data": {
      "text/plain": [
       "str"
      ]
     },
     "execution_count": 13,
     "metadata": {},
     "output_type": "execute_result"
    }
   ],
   "source": [
    "type(var2)"
   ]
  },
  {
   "cell_type": "code",
   "execution_count": 15,
   "id": "cb6bfa60-0209-4de4-87c5-3518af3fe326",
   "metadata": {},
   "outputs": [],
   "source": [
    "var3 = [ 'DS' , 'ML' , 'Python' ]"
   ]
  },
  {
   "cell_type": "code",
   "execution_count": 16,
   "id": "b4ad8a6d-5c13-4ed2-95f6-198cd5b63e4d",
   "metadata": {},
   "outputs": [
    {
     "data": {
      "text/plain": [
       "list"
      ]
     },
     "execution_count": 16,
     "metadata": {},
     "output_type": "execute_result"
    }
   ],
   "source": [
    "type(var3)"
   ]
  },
  {
   "cell_type": "code",
   "execution_count": 17,
   "id": "176eb6c4-92cf-45ff-a8d7-a4a4e41accb1",
   "metadata": {},
   "outputs": [],
   "source": [
    "var4=1."
   ]
  },
  {
   "cell_type": "code",
   "execution_count": 18,
   "id": "6051954a-2706-47f4-a697-d470db54ec47",
   "metadata": {},
   "outputs": [
    {
     "data": {
      "text/plain": [
       "float"
      ]
     },
     "execution_count": 18,
     "metadata": {},
     "output_type": "execute_result"
    }
   ],
   "source": [
    "type(var4)"
   ]
  },
  {
   "cell_type": "markdown",
   "id": "9e4005f2-9d6a-4af4-8524-ffed271b6869",
   "metadata": {},
   "source": [
    "Q3. Explain the use of the following operators using an example:"
   ]
  },
  {
   "cell_type": "markdown",
   "id": "da64f0f6-95ab-4488-85b7-fe69561a7fe4",
   "metadata": {},
   "source": [
    "(i)\t/(division)=divides operand on the left side of oprator with the operand on the right side.\n",
    "                the division operator return the quoteint."
   ]
  },
  {
   "cell_type": "code",
   "execution_count": 20,
   "id": "d3227c83-0fcc-4a9a-9c62-f2bd1b70e805",
   "metadata": {},
   "outputs": [
    {
     "name": "stdout",
     "output_type": "stream",
     "text": [
      "5.0\n"
     ]
    }
   ],
   "source": [
    "#example\n",
    "a=4 \n",
    "b=20\n",
    "print(b/a)"
   ]
  },
  {
   "cell_type": "markdown",
   "id": "c5297077-ffce-41f7-9e3e-b5e039e6b5ba",
   "metadata": {},
   "source": [
    "(ii)\t% (modulus):divides operand on the left sides of the operator with the operand on the rigth.the modulus oprator return remainder"
   ]
  },
  {
   "cell_type": "code",
   "execution_count": 22,
   "id": "45985792-96e1-49ba-863b-4d063aa07796",
   "metadata": {},
   "outputs": [
    {
     "name": "stdout",
     "output_type": "stream",
     "text": [
      "0\n"
     ]
    }
   ],
   "source": [
    "#example:\n",
    "print(b%a)"
   ]
  },
  {
   "cell_type": "markdown",
   "id": "c96e104e-00a3-4b0d-b9ab-d72de074207b",
   "metadata": {},
   "source": [
    "(iii)\t//:floor division=divides the operands and return the quoteint.it also removes the digits after the decimal point.if one of the operands is negative,the result is floored(i.e.rounded away from zero toward negative infinity)."
   ]
  },
  {
   "cell_type": "code",
   "execution_count": 23,
   "id": "ebb3ec85-7e87-4dcb-8f03-94908a611b8c",
   "metadata": {},
   "outputs": [
    {
     "name": "stdout",
     "output_type": "stream",
     "text": [
      "2\n"
     ]
    }
   ],
   "source": [
    "#examples \n",
    "print(12//5)\n"
   ]
  },
  {
   "cell_type": "code",
   "execution_count": 24,
   "id": "57666e6f-22aa-448a-9e82-533d4a18ea38",
   "metadata": {},
   "outputs": [
    {
     "name": "stdout",
     "output_type": "stream",
     "text": [
      "2.0\n"
     ]
    }
   ],
   "source": [
    "print(12.0//5.0)"
   ]
  },
  {
   "cell_type": "code",
   "execution_count": 25,
   "id": "f06e5d3b-8a33-4119-9ddc-5ac3bfe0cfab",
   "metadata": {},
   "outputs": [
    {
     "name": "stdout",
     "output_type": "stream",
     "text": [
      "-4\n"
     ]
    }
   ],
   "source": [
    "print(-19//5)"
   ]
  },
  {
   "cell_type": "code",
   "execution_count": 26,
   "id": "6a7640c7-54ea-4374-9e74-29dc5013328d",
   "metadata": {},
   "outputs": [
    {
     "name": "stdout",
     "output_type": "stream",
     "text": [
      "-7.0\n"
     ]
    }
   ],
   "source": [
    "print(-20.0//3)"
   ]
  },
  {
   "cell_type": "markdown",
   "id": "bb66ef49-9577-478e-b307-8ba6291cbd7b",
   "metadata": {},
   "source": [
    "Q4. Create a list of length 10 of your choice containing multiple types of data. Using for loop print the\n",
    "element and its data type."
   ]
  },
  {
   "cell_type": "code",
   "execution_count": 27,
   "id": "e8d59eb6-ce5a-41ea-9c38-7f016fe964a4",
   "metadata": {},
   "outputs": [],
   "source": [
    "l1=['komal',4.5,68,23,1,True,'shrivastav',(5+7j),3,4,5]"
   ]
  },
  {
   "cell_type": "code",
   "execution_count": 28,
   "id": "103bb26d-afaf-41bc-aed4-ce0003d4f22f",
   "metadata": {},
   "outputs": [
    {
     "name": "stdout",
     "output_type": "stream",
     "text": [
      "<class 'str'>\n",
      "komal\n",
      "<class 'float'>\n",
      "4.5\n",
      "<class 'int'>\n",
      "68\n",
      "<class 'int'>\n",
      "23\n",
      "<class 'int'>\n",
      "1\n",
      "<class 'bool'>\n",
      "True\n",
      "<class 'str'>\n",
      "shrivastav\n",
      "<class 'complex'>\n",
      "(5+7j)\n",
      "<class 'int'>\n",
      "3\n",
      "<class 'int'>\n",
      "4\n",
      "<class 'int'>\n",
      "5\n"
     ]
    }
   ],
   "source": [
    "for i in l1:\n",
    "    print(type(i))\n",
    "    print(i)\n",
    "    "
   ]
  },
  {
   "cell_type": "markdown",
   "id": "d08db4b0-d1a5-47e0-931e-a120d6ed7885",
   "metadata": {},
   "source": [
    "Q5. Using a while loop, verify if the number A is purely divisible by number B and if so then how many\n",
    "times it can be divisible"
   ]
  },
  {
   "cell_type": "code",
   "execution_count": 2,
   "id": "2b242aa8-8366-43cd-92c7-86c97f790600",
   "metadata": {},
   "outputs": [
    {
     "name": "stdout",
     "output_type": "stream",
     "text": [
      "A is divisible by B 2 times.\n"
     ]
    }
   ],
   "source": [
    "A =100\n",
    "B = 5    \n",
    "\n",
    "count = 0  \n",
    "\n",
    "while A % B == 0:\n",
    "    A = A / B\n",
    "    count += 1\n",
    "\n",
    "print(f\"A is divisible by B {count} times.\")\n"
   ]
  },
  {
   "cell_type": "markdown",
   "id": "e7ecd316-3a50-40be-afc1-a149855de98d",
   "metadata": {},
   "source": [
    "Q6. Create a list containing 25 int type data. Using for loop and if-else condition print if the element is\n",
    "divisible by 3 or not"
   ]
  },
  {
   "cell_type": "code",
   "execution_count": 2,
   "id": "6e6ed2b5-9fd5-413d-b95f-0b5366d99a8e",
   "metadata": {},
   "outputs": [],
   "source": [
    "l2=[26,45,67,90,67,34,32,12,28,19,18,11,20,23,40,30,60,63,48,50,54,98,89,80,8]"
   ]
  },
  {
   "cell_type": "code",
   "execution_count": 32,
   "id": "c6c4b1dc-cb6b-45bb-851c-e12b25b7b507",
   "metadata": {},
   "outputs": [
    {
     "data": {
      "text/plain": [
       "25"
      ]
     },
     "execution_count": 32,
     "metadata": {},
     "output_type": "execute_result"
    }
   ],
   "source": [
    "len(l2)"
   ]
  },
  {
   "cell_type": "code",
   "execution_count": 3,
   "id": "1fb788a1-cb73-419a-a8a1-c016e6e055e5",
   "metadata": {},
   "outputs": [
    {
     "name": "stdout",
     "output_type": "stream",
     "text": [
      "26\n",
      "45\n",
      "67\n",
      "90\n",
      "67\n",
      "34\n",
      "32\n",
      "12\n",
      "28\n",
      "19\n",
      "18\n",
      "11\n",
      "20\n",
      "23\n",
      "40\n",
      "30\n",
      "60\n",
      "63\n",
      "48\n",
      "50\n",
      "54\n",
      "98\n",
      "89\n",
      "80\n",
      "8\n"
     ]
    }
   ],
   "source": [
    "for i in l2:\n",
    "    if(i/3):\n",
    "        print(i)\n",
    "    else:\n",
    "        print(\"i is not divisible by 3\")"
   ]
  },
  {
   "cell_type": "code",
   "execution_count": null,
   "id": "6854a10e-3a17-4c6f-917d-5192e31edc0b",
   "metadata": {},
   "outputs": [],
   "source": []
  }
 ],
 "metadata": {
  "kernelspec": {
   "display_name": "Python 3 (ipykernel)",
   "language": "python",
   "name": "python3"
  },
  "language_info": {
   "codemirror_mode": {
    "name": "ipython",
    "version": 3
   },
   "file_extension": ".py",
   "mimetype": "text/x-python",
   "name": "python",
   "nbconvert_exporter": "python",
   "pygments_lexer": "ipython3",
   "version": "3.10.8"
  }
 },
 "nbformat": 4,
 "nbformat_minor": 5
}
