{
 "cells": [
  {
   "cell_type": "markdown",
   "id": "1ffb6f08-c0cc-4a96-8bd4-99a901e915a7",
   "metadata": {},
   "source": [
    "What is Abstraction in OOps? Explain with an example."
   ]
  },
  {
   "cell_type": "markdown",
   "id": "8c1306f0-61a4-4f4a-9367-4345f18517f1",
   "metadata": {},
   "source": [
    "Abstraction In OOP\n",
    "In simple terms, abstraction “displays” only the relevant attributes of objects and “hides” the unnecessary details. For example, when we are driving a car, we are only concerned about driving the car like start/stop the car, accelerate/ break, etc.\n"
   ]
  },
  {
   "cell_type": "markdown",
   "id": "660d081e-9d4e-43f7-8f77-a64f9e3d6bf5",
   "metadata": {},
   "source": [
    "Q2. Differentiate between Abstraction and Encapsulation. Explain with an example."
   ]
  },
  {
   "cell_type": "markdown",
   "id": "a7c5551b-2c5a-470e-b4c6-755740b99318",
   "metadata": {},
   "source": [
    "Abstraction is a way of representing some specific data. Encapsulation is a way of hiding the complexity of something and exposing only the parts you wish to expose. For example, if you have a class that has one or more private fields that you use to store the data, then you are in encapsulation.\n"
   ]
  },
  {
   "cell_type": "markdown",
   "id": "2ad7af46-45cd-4d57-9e11-6ef4ca6f7790",
   "metadata": {},
   "source": [
    "Q3. What is abc module in python? Why is it used?"
   ]
  },
  {
   "cell_type": "markdown",
   "id": "66b10424-ffa2-41f7-9645-55593eca9ac5",
   "metadata": {},
   "source": [
    "The 'abc' module in Python library provides the infrastructure for defining custom abstract base classes. 'abc' works by marking methods of the base class as abstract. This is done by @absttractmethod decorator"
   ]
  },
  {
   "cell_type": "markdown",
   "id": "89af21e4-5fdc-4f05-b18e-cb0da47fa840",
   "metadata": {},
   "source": [
    "Q4. How can we achieve data abstraction?"
   ]
  },
  {
   "cell_type": "markdown",
   "id": "9e2e6500-557f-442a-aa28-f2335e2e7795",
   "metadata": {},
   "source": [
    "In Python, abstraction can be achieved by having/using abstract classes and methods in our programs. Understanding Abstract Methods and Classes: An abstract method is a method that is declared, but does not contain implementation.\n"
   ]
  },
  {
   "cell_type": "markdown",
   "id": "2129bb82-1471-473a-b537-80e94fab8089",
   "metadata": {},
   "source": [
    "Q5. Can we create an instance of an abstract class? Explain your answer."
   ]
  },
  {
   "cell_type": "markdown",
   "id": "d36368ee-eeac-4baa-aa1c-768a7690ff10",
   "metadata": {},
   "source": [
    "No, we can't create an object of an abstract class. But we can create a reference variable of an abstract class. The reference variable is used to refer to the objects of derived classes (subclasses of abstract class).06-Feb-2020\n"
   ]
  }
 ],
 "metadata": {
  "kernelspec": {
   "display_name": "Python 3 (ipykernel)",
   "language": "python",
   "name": "python3"
  },
  "language_info": {
   "codemirror_mode": {
    "name": "ipython",
    "version": 3
   },
   "file_extension": ".py",
   "mimetype": "text/x-python",
   "name": "python",
   "nbconvert_exporter": "python",
   "pygments_lexer": "ipython3",
   "version": "3.10.8"
  }
 },
 "nbformat": 4,
 "nbformat_minor": 5
}
