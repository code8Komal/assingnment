{
 "cells": [
  {
   "cell_type": "markdown",
   "id": "d99786f4-49ac-44f4-828e-e775263cda30",
   "metadata": {},
   "source": [
    "Q1). what is multithreading in python? why is it used? Name the module used to handle threads in python"
   ]
  },
  {
   "cell_type": "markdown",
   "id": "eb370456-78ae-442a-b030-7edfc8e28e2e",
   "metadata": {},
   "source": [
    "Multithreading in Python is a popular technique that enables multiple tasks to be executed simultaneously. In simple words, the ability of a processor to execute multiple threads simultaneously is known as multithreading.\n"
   ]
  },
  {
   "cell_type": "markdown",
   "id": "57fd9f16-122f-4b0d-bbdd-3027fe71c792",
   "metadata": {},
   "source": [
    "Multithreading in Python streamlines the efficient utilization of resources as the threads share the same memory and data space. It also allows the concurrent appearance of multiple tasks and reduces the response time. This improves the performance"
   ]
  },
  {
   "cell_type": "markdown",
   "id": "a0a22dd8-6a04-48eb-b903-da61b2a21fe2",
   "metadata": {},
   "source": [
    "Threading Modules. The threading module is a high-level implementation of multithreading used to deploy an application in Python. To use multithreading, we need to import the threading module in Python Program. A start() method is used to initiate the activity of a thread.\n"
   ]
  },
  {
   "cell_type": "markdown",
   "id": "d4739034-96ad-4c77-8738-1042a3fabbf7",
   "metadata": {},
   "source": [
    "2. why threading module used?write the use of the following functions"
   ]
  },
  {
   "cell_type": "markdown",
   "id": "1501d19d-c685-4e45-b370-bdb5879109c5",
   "metadata": {},
   "source": [
    "Python threading allows you to have different parts of your program run concurrently and can simplify your design. If you've got some experience in Python and want to speed up your program using threads, then this tutorial is for you!"
   ]
  },
  {
   "cell_type": "markdown",
   "id": "6cd29e52-f928-4d16-8775-c5c801365a8f",
   "metadata": {},
   "source": [
    "The threading module in Python is used to implement concurrent programming. It provides a way to run multiple threads (smaller units of execution) concurrently within a single process"
   ]
  },
  {
   "cell_type": "markdown",
   "id": "86b3b2fa-77f3-42c5-81d6-c2cb89973502",
   "metadata": {},
   "source": [
    "1)activeCount():\n",
    "\n",
    "The activeCount() function is used to get the number of Thread objects currently alive and running.\n",
    "It returns the count of Thread objects that are currently in the active state (i.e., not terminated or finished).\n",
    "This function is helpful to monitor the number of active threads in a program.\n"
   ]
  },
  {
   "cell_type": "markdown",
   "id": "0d453389-e3b7-4447-ab52-6b594d93defd",
   "metadata": {},
   "source": [
    "2)currentThread():\n",
    "\n",
    "The currentThread() function is used to get the current Thread object corresponding to the caller's thread of execution.\n",
    "It returns the Thread object representing the current thread.\n",
    "This function is useful for accessing information or manipulating the current thread, such as getting its name, identification number, or controlling its behavior."
   ]
  },
  {
   "cell_type": "markdown",
   "id": "1e6c20de-d152-489a-8b55-feef08d2c2ab",
   "metadata": {},
   "source": [
    "3)Enumerate :\n",
    "The enumerate() function is a built-in function in Python that is commonly used to iterate over a sequence (such as a list, tuple, or string) while keeping track of the index or position of each element. It returns an enumerate object that generates pairs of index and value."
   ]
  },
  {
   "cell_type": "markdown",
   "id": "4bd36c2d-50fd-4178-9e28-4a6b11b95741",
   "metadata": {},
   "source": [
    "3. Explain the following functions\n",
    "The Threading Module\n",
    "1)run() − The run() method is the entry point for a thread.\n",
    "\n",
    "2)start() − The start() method starts a thread by calling the run method.\n",
    "\n",
    "3)join([time]) − The join() waits for threads to terminate.\n",
    "\n",
    "4)isAlive() − The isAlive() method checks whether a thread is still executing."
   ]
  },
  {
   "cell_type": "markdown",
   "id": "ce1119cd-cc4c-4156-ab8b-93ff36a6fab8",
   "metadata": {},
   "source": [
    "4.write a python program to create two threads. Thread one must print the list of squares and thread\n",
    "two must print the list of cubes"
   ]
  },
  {
   "cell_type": "code",
   "execution_count": null,
   "id": "aad39d90-39fa-4ddd-b381-0e2b49caf5de",
   "metadata": {},
   "outputs": [],
   "source": [
    "import threading\n",
    "\n",
    "# Function to print squares\n",
    "def print_squares(numbers):\n",
    "    for num in numbers:\n",
    "        square = num ** 2\n",
    "        print(f\"Square: {square}\")\n",
    "\n",
    "# Function to print cubes\n",
    "def print_cubes(numbers):\n",
    "    for num in numbers:\n",
    "        cube = num ** 3\n",
    "        print(f\"Cube: {cube}\")\n",
    "\n",
    "# Create a list of numbers\n",
    "numbers = [1, 2, 3, 4, 5]\n",
    "# Create thread one to print squares\n",
    "thread1 = threading.Thread(target=print_squares, args=(numbers,))\n",
    "\n",
    "# Create thread two to print cubes\n",
    "thread2 = threading.Thread(target=print_cubes, args=(numbers,))\n",
    "\n",
    "# Start both threads\n",
    "thread1.start()\n",
    "thread2.start()\n",
    "\n",
    "# Wait for both threads to finish\n",
    "thread1.join()\n",
    "thread2.join()"
   ]
  },
  {
   "cell_type": "code",
   "execution_count": 1,
   "id": "04078ffd-4ccc-47ee-b50e-5879399c46cd",
   "metadata": {},
   "outputs": [],
   "source": [
    "import threading"
   ]
  },
  {
   "cell_type": "code",
   "execution_count": 4,
   "id": "80bf2fdd-517d-45d9-a109-112e9e43c0be",
   "metadata": {},
   "outputs": [
    {
     "name": "stdout",
     "output_type": "stream",
     "text": [
      "square:1\n",
      "square:4\n",
      "square:9\n",
      "square:16\n",
      "square:25\n",
      "square:36\n",
      "square:49\n",
      "square:64\n",
      "square:81\n",
      "cube:1\n",
      "cube:8\n",
      "cube:27\n",
      "cube:64\n",
      "cube:125\n",
      "cube:216\n",
      "cube:343\n",
      "cube:512\n",
      "cube:729\n"
     ]
    }
   ],
   "source": [
    "#function to print squares\n",
    "def print_square(numbers):\n",
    "    for n in numbers:\n",
    "        square=n**2\n",
    "        print(f\"square:{square}\")\n",
    "#function to print cube\n",
    "def print_cube(numbers):\n",
    "    for n in numbers:\n",
    "        cube=n**3\n",
    "        print(f\"cube:{cube}\")\n",
    "#create a list of numbers\n",
    "numbers=[1,2,3,4,5,6,7,8,9]\n",
    "\n",
    "#create a tread one to print square\n",
    "thread1=threading.Thread(target=print_square,args=(numbers,))\n",
    "#create a thread two to print cube\n",
    "thread2=threading.Thread(target=print_cube,args=(numbers,))\n",
    "\n",
    "#start both thread\n",
    "thread1.start()\n",
    "thread2.start()\n",
    "#wait for both threads to finish\n",
    "thread1.join()\n",
    "thread2.join()"
   ]
  },
  {
   "cell_type": "markdown",
   "id": "6dbb498d-ef65-47a3-bc0f-ba21ae35cd17",
   "metadata": {},
   "source": [
    "5. state advantages and disadvantages of multithreading in python"
   ]
  },
  {
   "cell_type": "markdown",
   "id": "2c70d6c1-3153-48fc-9027-a77d04a2bc45",
   "metadata": {},
   "source": [
    "Following are some of the common advantage of multithreading:\n",
    "\n",
    "1.Enhanced performance by decreased development time\n",
    "2.Simplified and streamlined program coding\n",
    "3.Improvised GUI responsiveness\n",
    "4.Simultaneous and parallelized occurrence of tasks\n",
    "5.Better use of cache storage by utilization of resources\n",
    "6.Decreased cost of maintenance\n",
    "7.Better use of CPU resource"
   ]
  },
  {
   "cell_type": "markdown",
   "id": "39195d47-e424-47a3-874c-f933e4a610fb",
   "metadata": {},
   "source": [
    "6.Following are some of the disadvantage of multithreading:"
   ]
  },
  {
   "cell_type": "markdown",
   "id": "20d157be-2090-486b-8822-bd2924b80d64",
   "metadata": {},
   "source": [
    "1.Complex debugging and testing processes\n",
    "2.Overhead switching of context\n",
    "3.Increased potential for deadlock occurrence\n",
    "4.Increased difficulty level in writing a program\n",
    "5.Unpredictable results"
   ]
  },
  {
   "cell_type": "code",
   "execution_count": null,
   "id": "64988e36-80b9-4d5a-a62e-2fc1f3ab4086",
   "metadata": {},
   "outputs": [],
   "source": [
    "Explain deadlocks and race conditions."
   ]
  },
  {
   "cell_type": "markdown",
   "id": "365bb147-af1b-4acb-911e-f2a05f231ef6",
   "metadata": {},
   "source": [
    "Race Condition:\n",
    "\n",
    "A race condition occurs when the behavior of a program depends on the relative execution order of two or more concurrent threads or processes."
   ]
  },
  {
   "cell_type": "markdown",
   "id": "52f6619a-3cec-424b-9326-df3202a1f350",
   "metadata": {},
   "source": [
    "A race condition occurs when two threads access a shared variable at the same time. The first thread reads the variable, and the second thread reads the same value from the variable. Then the first thread and second thread perform their operations on the value, and they race to see which thread can write the value last to the shared variable. The value of the thread that writes its value last is preserved, because the thread is writing over the value that the previous thread wrote."
   ]
  },
  {
   "cell_type": "markdown",
   "id": "58340cf2-6b9b-46b6-8bfe-52e9e929f9a9",
   "metadata": {},
   "source": [
    "Deadlock:\n",
    "\n",
    "Deadlock is a situation where two or more threads or processes are blocked forever, waiting for each other to release resources."
   ]
  },
  {
   "cell_type": "markdown",
   "id": "01264d59-47d3-4e72-b068-cd021a611f5c",
   "metadata": {},
   "source": [
    "A deadlock occurs when two threads each lock a different variable at the same time and then try to lock the variable that the other thread already locked. As a result, each thread stops executing and waits for the other thread to release the variable. Because each thread is holding the variable that the other thread wants, nothing occurs, and the threads remain deadlocked"
   ]
  },
  {
   "cell_type": "code",
   "execution_count": null,
   "id": "605f7190-32ad-4eff-b69e-22325234f49e",
   "metadata": {},
   "outputs": [],
   "source": []
  }
 ],
 "metadata": {
  "kernelspec": {
   "display_name": "Python 3 (ipykernel)",
   "language": "python",
   "name": "python3"
  },
  "language_info": {
   "codemirror_mode": {
    "name": "ipython",
    "version": 3
   },
   "file_extension": ".py",
   "mimetype": "text/x-python",
   "name": "python",
   "nbconvert_exporter": "python",
   "pygments_lexer": "ipython3",
   "version": "3.10.8"
  }
 },
 "nbformat": 4,
 "nbformat_minor": 5
}
