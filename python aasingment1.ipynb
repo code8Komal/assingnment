{
 "cells": [
  {
   "cell_type": "markdown",
   "id": "3729ff61-ae1b-45e4-92ea-caa1d07c3250",
   "metadata": {},
   "source": [
    "Explain Class and Object with respect to Object-Oriented Programming. Give a suitable example."
   ]
  },
  {
   "cell_type": "markdown",
   "id": "e2b89d04-287f-424e-9989-812d5a3c469b",
   "metadata": {},
   "source": [
    "Object − \n",
    "        Objects are identifiable entities that have a set of attributes, behaviour and state. \n",
    "        Five examples of objects are car, pen, mobile, email, bank account.\n"
   ]
  },
  {
   "cell_type": "markdown",
   "id": "61dc1e2a-3437-44bb-8f3d-ccf3b19af5c4",
   "metadata": {},
   "source": [
    "Classes- are user-defined data types that act as the blueprint\n",
    "    for individual objects, attributes and methods.\n",
    "    For example, we can consider a car as a class that has characteristics like steering wheels,\n",
    "    seats, brakes, etc. And its behavior is mobility.\n"
   ]
  },
  {
   "cell_type": "markdown",
   "id": "9b42f82f-2e5a-452a-b621-c88520836554",
   "metadata": {},
   "source": [
    "Q2. Name the four pillars of OOPs."
   ]
  },
  {
   "cell_type": "markdown",
   "id": "7ab58ade-4c7c-43ac-a0ea-2f08ed6e9305",
   "metadata": {},
   "source": [
    "The Four Pillars of Object Oriented Programming\n",
    "Abstraction.\n",
    "Encapsulation.\n",
    "Inheritance.\n",
    "Polymorphism."
   ]
  },
  {
   "cell_type": "code",
   "execution_count": null,
   "id": "883108dd-25af-4966-b4e9-c5507bd7ec15",
   "metadata": {},
   "outputs": [],
   "source": [
    "Q3. Explain why the __init__() function is used. Give a suitable example."
   ]
  },
  {
   "cell_type": "markdown",
   "id": "3e729393-2817-4318-8854-395be30c1f45",
   "metadata": {},
   "source": [
    "\"__init__\" is a reseved method in python classes. It is called as a constructor in object oriented terminology\n",
    "The __init__ method is the Python equivalent of the C++ constructor in an object-oriented approach.\n",
    "The __init__ function is called every time an object is created from a class. The __init__ method lets the class initialize the object's attributes and serves no other purpose. It is only used within classes"
   ]
  },
  {
   "cell_type": "markdown",
   "id": "ccce33c1-b27b-4789-bc19-67f8b9e2f441",
   "metadata": {},
   "source": [
    "E.g.if the class is Person, then the attributes will be name, age, etc."
   ]
  },
  {
   "cell_type": "code",
   "execution_count": null,
   "id": "e4d873e0-9df4-4374-bd6d-fb7dad5330ce",
   "metadata": {},
   "outputs": [],
   "source": [
    "Q4. Why self is used in OOPs?"
   ]
  },
  {
   "cell_type": "markdown",
   "id": "c7c48708-03ff-4280-a753-5f6b84f547fc",
   "metadata": {},
   "source": [
    "The use of self makes it easier to distinguish between instance attributes (and methods) from local variables. In the first example, self. x is an instance attribute whereas x is a local variable.\n",
    "They are not the same and they lie in different namespaces."
   ]
  },
  {
   "cell_type": "markdown",
   "id": "6deca9e1-1f14-46c8-b0a7-d7eb2c86bc24",
   "metadata": {},
   "source": [
    "Q5.What is inheritance? Give an example for each type of inheritance."
   ]
  },
  {
   "cell_type": "markdown",
   "id": "e0c00c91-634b-4128-8a51-79b430e9dce6",
   "metadata": {},
   "source": [
    "What is Inheritance? Inheritance is a mechanism in which one class acquires the property of another class. For example, a child inherits the traits of his/her parents. With inheritance, we can reuse the fields and methods of the existing class.\n"
   ]
  }
 ],
 "metadata": {
  "kernelspec": {
   "display_name": "Python 3 (ipykernel)",
   "language": "python",
   "name": "python3"
  },
  "language_info": {
   "codemirror_mode": {
    "name": "ipython",
    "version": 3
   },
   "file_extension": ".py",
   "mimetype": "text/x-python",
   "name": "python",
   "nbconvert_exporter": "python",
   "pygments_lexer": "ipython3",
   "version": "3.10.8"
  }
 },
 "nbformat": 4,
 "nbformat_minor": 5
}
