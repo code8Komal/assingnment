{
 "cells": [
  {
   "cell_type": "markdown",
   "id": "facb2c4c-1957-400c-8773-c06da61bbf86",
   "metadata": {},
   "source": [
    "Q1. How do you comment code in Python? What are the different types of comments?"
   ]
  },
  {
   "cell_type": "markdown",
   "id": "3ade7911-89b8-4826-bca0-ed9e3d4e7be2",
   "metadata": {},
   "source": [
    "Comments in Python are identified with a hash symbol, #, and extend to the end of the line. Hash characters in a string are not considered comments, however. There are three ways to write a comment - as a separate line, beside the corresponding statement of code, or as a multi-line comment block"
   ]
  },
  {
   "cell_type": "code",
   "execution_count": 1,
   "id": "3a5e51ac-ebb5-4994-90d2-5f9a2306ef26",
   "metadata": {},
   "outputs": [
    {
     "data": {
      "text/plain": [
       "'for multiple line comment'"
      ]
     },
     "execution_count": 1,
     "metadata": {},
     "output_type": "execute_result"
    }
   ],
   "source": [
    "#comment\n",
    "\"\"\"for multiple line comment\"\"\""
   ]
  },
  {
   "cell_type": "markdown",
   "id": "d52f1c16-b25a-4d33-80f6-16a1946ed996",
   "metadata": {},
   "source": [
    "Q2. What are variables in Python? How do you declare and assign values to variables?"
   ]
  },
  {
   "cell_type": "markdown",
   "id": "0d6ca0cb-2668-4a97-a9f8-124e24dad32a",
   "metadata": {},
   "source": [
    "A variable is a string of characters and numbers associated with a piece of information. The assignment operator, denoted by the “=” symbol, is the operator that is used to assign values to variables in Python. The line x=1 takes the known value, 1, and assigns that value to the variable with name “x”."
   ]
  },
  {
   "cell_type": "markdown",
   "id": "060777d6-e26e-4cc8-ba35-1c52725662c5",
   "metadata": {},
   "source": [
    "Q3. How do you convert one data type to another in Python?"
   ]
  },
  {
   "cell_type": "markdown",
   "id": "53530fbd-b7c1-45a1-8d3a-2e0b9df35ea1",
   "metadata": {},
   "source": [
    "Python defines type conversion functions like int(), float(), str() to directly convert one data type into another. This type of conversion is also called typecasting because the user casts (change) the data type of the objects. This function converts any data type into integer"
   ]
  },
  {
   "cell_type": "markdown",
   "id": "feff3f6d-e766-4b54-ba85-f17e381586fc",
   "metadata": {},
   "source": [
    "Q4. How do you write and execute a Python script from the command line?"
   ]
  },
  {
   "cell_type": "markdown",
   "id": "4015f105-0312-4060-a730-f12b47a21d58",
   "metadata": {},
   "source": [
    "The most basic and easy way to run a Python script is by using the python command. You need to open a command line and type the word python followed by the path to your script file like this: python first_script.py Hello World! Then you hit the ENTER button from the keyboard, and that's it."
   ]
  },
  {
   "cell_type": "markdown",
   "id": "6c1c9c6d-e118-4299-80f9-a1fb6b360c02",
   "metadata": {},
   "source": [
    "Q5. Given a list my_list = [1, 2, 3, 4, 5], write the code to slice the list and obtain the sub-list [2, 3]."
   ]
  },
  {
   "cell_type": "code",
   "execution_count": 1,
   "id": "2aa929c1-8c62-489e-bd75-1c1e7222088f",
   "metadata": {},
   "outputs": [],
   "source": [
    "my_list=[1,2,3,4,5]"
   ]
  },
  {
   "cell_type": "code",
   "execution_count": 3,
   "id": "d98f7c5d-8a04-4231-96bf-3558ddc88c46",
   "metadata": {},
   "outputs": [
    {
     "name": "stdout",
     "output_type": "stream",
     "text": [
      "[2, 3]\n"
     ]
    }
   ],
   "source": [
    "print(my_list[1:3])"
   ]
  },
  {
   "cell_type": "markdown",
   "id": "85efb5af-f9ee-4957-ab48-ec3cd6709c10",
   "metadata": {},
   "source": [
    "Q6. What is a complex number in mathematics, and how is it represented in Python?"
   ]
  },
  {
   "cell_type": "markdown",
   "id": "24e8a809-57d7-4c64-8bd9-44d1888e5137",
   "metadata": {},
   "source": [
    "Complex numbers are created from two real numbers. You can create it directly or you can use the complex function. It is written in the form of (x + yj) where x and y are real numbers and j is an imaginary number which is the square root of -1.1"
   ]
  },
  {
   "cell_type": "code",
   "execution_count": 6,
   "id": "22729bd7-c5e4-49e7-ad02-e96af2b87551",
   "metadata": {},
   "outputs": [],
   "source": [
    "b=(3+4j)"
   ]
  },
  {
   "cell_type": "markdown",
   "id": "5077d92d-7e16-486c-b52e-92085187a890",
   "metadata": {},
   "source": [
    "Q7. What is the correct way to declare a variable named age and assign the value 25 to it?"
   ]
  },
  {
   "cell_type": "code",
   "execution_count": 10,
   "id": "44751d54-16ca-4be9-b900-01c5d98e5192",
   "metadata": {},
   "outputs": [],
   "source": [
    "age=25"
   ]
  },
  {
   "cell_type": "markdown",
   "id": "c10736f4-8dd4-48d3-a755-bbed09341bdb",
   "metadata": {},
   "source": [
    "Q8. Declare a variable named price and assign the value 9.99 to it. What data type does this variable\n",
    "belong to?"
   ]
  },
  {
   "cell_type": "code",
   "execution_count": 12,
   "id": "0369c3d8-ae74-429b-af95-10c5d24623fa",
   "metadata": {},
   "outputs": [],
   "source": [
    "price=9.99"
   ]
  },
  {
   "cell_type": "code",
   "execution_count": 13,
   "id": "62f298af-85f4-4288-a10c-07ce84a10a57",
   "metadata": {},
   "outputs": [
    {
     "data": {
      "text/plain": [
       "float"
      ]
     },
     "execution_count": 13,
     "metadata": {},
     "output_type": "execute_result"
    }
   ],
   "source": [
    "type(price)"
   ]
  },
  {
   "cell_type": "markdown",
   "id": "d9b87611-2281-4a8c-9d8c-69b10e9698ae",
   "metadata": {},
   "source": [
    "Q10. Given the string \"Hello, World!\", extract the substring \"World\"."
   ]
  },
  {
   "cell_type": "code",
   "execution_count": 14,
   "id": "a7acaefd-d8b2-4462-acd1-a59f2b22d43f",
   "metadata": {},
   "outputs": [],
   "source": [
    "s=\"Hello, World\""
   ]
  },
  {
   "cell_type": "code",
   "execution_count": 16,
   "id": "ba75590a-4a96-4995-8ee7-f566374d1014",
   "metadata": {},
   "outputs": [
    {
     "data": {
      "text/plain": [
       "' World'"
      ]
     },
     "execution_count": 16,
     "metadata": {},
     "output_type": "execute_result"
    }
   ],
   "source": [
    "s[6::1]"
   ]
  },
  {
   "cell_type": "markdown",
   "id": "ba04d999-d033-437c-be52-b8705fb5d561",
   "metadata": {},
   "source": [
    "Q9. Create a variable named name and assign your full name to it as a string. How would you print the\n",
    "value of this variable?"
   ]
  },
  {
   "cell_type": "code",
   "execution_count": 2,
   "id": "455e57cd-5448-4857-9f16-3aaa833d7758",
   "metadata": {},
   "outputs": [],
   "source": [
    "ks=\"komal shrivastav\""
   ]
  },
  {
   "cell_type": "code",
   "execution_count": 3,
   "id": "83a5fafe-fcf4-4096-9273-f7c674d545c7",
   "metadata": {},
   "outputs": [
    {
     "name": "stdout",
     "output_type": "stream",
     "text": [
      "komal shrivastav\n"
     ]
    }
   ],
   "source": [
    "print(ks)"
   ]
  },
  {
   "cell_type": "markdown",
   "id": "eb33ec70-a7df-4dab-bb94-f157319d0907",
   "metadata": {},
   "source": [
    "Q11. Create a variable named \"is_student\" and assign it a boolean value indicating whether you are\n",
    "currently a student or not."
   ]
  },
  {
   "cell_type": "code",
   "execution_count": 18,
   "id": "6db67beb-46f8-4e36-98f8-1cfc83c77a1d",
   "metadata": {},
   "outputs": [],
   "source": [
    "is_student=True"
   ]
  },
  {
   "cell_type": "code",
   "execution_count": null,
   "id": "8bc1ea98-99a1-4e98-aeb1-587f14273c24",
   "metadata": {},
   "outputs": [],
   "source": []
  }
 ],
 "metadata": {
  "kernelspec": {
   "display_name": "Python 3 (ipykernel)",
   "language": "python",
   "name": "python3"
  },
  "language_info": {
   "codemirror_mode": {
    "name": "ipython",
    "version": 3
   },
   "file_extension": ".py",
   "mimetype": "text/x-python",
   "name": "python",
   "nbconvert_exporter": "python",
   "pygments_lexer": "ipython3",
   "version": "3.10.8"
  }
 },
 "nbformat": 4,
 "nbformat_minor": 5
}
