{
 "cells": [
  {
   "cell_type": "markdown",
   "id": "5a15a561-9bb8-4723-b984-d7125314e7ec",
   "metadata": {},
   "source": [
    "Q1, Create a vehicle class with an init method having instance variables as name_of_vehicle, max_speed\n",
    "and average_of_vehicle."
   ]
  },
  {
   "cell_type": "code",
   "execution_count": 1,
   "id": "10ff0199-e84a-47c1-b4ce-0e6f5443788d",
   "metadata": {},
   "outputs": [],
   "source": [
    "class vehicle:\n",
    "    def __init__(self,name_of_vehicle,max_speed,average_of_vehicle):\n",
    "        self.name_of_vehicle=name_of_vehicle\n",
    "        self.max_speed=max_speed\n",
    "        self.average_of_vehicle=average_of_vehicle"
   ]
  },
  {
   "cell_type": "code",
   "execution_count": 2,
   "id": "2c0b1cf5-f33c-4b26-bcba-085ad03a64ea",
   "metadata": {},
   "outputs": [],
   "source": [
    "bike=vehicle(\"honda\",120,150)"
   ]
  },
  {
   "cell_type": "code",
   "execution_count": 3,
   "id": "1c78f783-f91f-4b2c-b228-7afeba49b4b8",
   "metadata": {},
   "outputs": [
    {
     "data": {
      "text/plain": [
       "'honda'"
      ]
     },
     "execution_count": 3,
     "metadata": {},
     "output_type": "execute_result"
    }
   ],
   "source": [
    "bike.name_of_vehicle"
   ]
  },
  {
   "cell_type": "code",
   "execution_count": 4,
   "id": "8f05cffd-0b6f-4a7c-8326-8f5a58a8f2de",
   "metadata": {},
   "outputs": [
    {
     "data": {
      "text/plain": [
       "120"
      ]
     },
     "execution_count": 4,
     "metadata": {},
     "output_type": "execute_result"
    }
   ],
   "source": [
    "bike.max_speed"
   ]
  },
  {
   "cell_type": "code",
   "execution_count": 5,
   "id": "82f5e1cc-ff3c-4ffa-a549-766d291545f4",
   "metadata": {},
   "outputs": [
    {
     "data": {
      "text/plain": [
       "150"
      ]
     },
     "execution_count": 5,
     "metadata": {},
     "output_type": "execute_result"
    }
   ],
   "source": [
    "bike.average_of_vehicle"
   ]
  },
  {
   "cell_type": "markdown",
   "id": "673bd7ee-66aa-440d-88e0-062c033537cb",
   "metadata": {},
   "source": [
    "Q2. Create a child class car from the vehicle class created in Que 1, which will inherit the vehicle class.\n",
    "Create a method named seating_capacity which takes capacity as an argument and returns the name of\n",
    "the vehicle and its seating capacity."
   ]
  },
  {
   "cell_type": "code",
   "execution_count": 11,
   "id": "3b0dda85-b394-43f6-9958-e1dac73dc0e0",
   "metadata": {},
   "outputs": [],
   "source": [
    "class car(vehicle):\n",
    "    def seating_capacity(self,capacity):\n",
    "        return f\"{self.name_of_vehicle} has a seating capacity of {capacity}.\""
   ]
  },
  {
   "cell_type": "code",
   "execution_count": 12,
   "id": "523fa299-e709-4f84-aaad-f18f2170b432",
   "metadata": {},
   "outputs": [],
   "source": [
    "car=car(\"car\",200,80)"
   ]
  },
  {
   "cell_type": "code",
   "execution_count": 13,
   "id": "cc3c969d-eecb-46e5-a849-2fbb77292d8c",
   "metadata": {},
   "outputs": [],
   "source": [
    "capacity=5\n"
   ]
  },
  {
   "cell_type": "code",
   "execution_count": 14,
   "id": "e44c784c-1e20-491d-9ef1-c041839ff344",
   "metadata": {},
   "outputs": [],
   "source": [
    "result=car.seating_capacity(capacity)"
   ]
  },
  {
   "cell_type": "markdown",
   "id": "d5572ef6-bfad-436c-abca-e69dc9131dca",
   "metadata": {},
   "source": [
    "Q3. What is multiple inheritance? Write a python code to demonstrate multiple inheritance."
   ]
  },
  {
   "cell_type": "markdown",
   "id": "1c57a492-18c7-46bb-b4c9-f91a03dd7aa6",
   "metadata": {},
   "source": [
    "Multiple inheritance is a feature in object-oriented programming where a class can inherit attributes and methods from more than one parent class. This allows a child class to inherit and combine the characteristics of multiple parent classes."
   ]
  },
  {
   "cell_type": "code",
   "execution_count": 16,
   "id": "0b6d5ca3-4b68-44d3-b968-bb678fccc680",
   "metadata": {},
   "outputs": [],
   "source": [
    "class Animal:\n",
    "    def __init__(self,name):\n",
    "        self.name=name\n",
    "        \n",
    "    def speak(self):\n",
    "        print(f\"{self.name} is speaking\")\n",
    "    \n",
    "    def eat(self):\n",
    "        print(f\"{self.name}is eating\")\n",
    "        \n",
    "class flyable:\n",
    "    def fly(self):\n",
    "        print(f\"{self.name} is flying\")\n",
    "class brid(Animal,flyable):\n",
    "    def __init__(self,name):\n",
    "        super().__init__(name)"
   ]
  },
  {
   "cell_type": "code",
   "execution_count": 18,
   "id": "56a9090c-631f-45a5-9884-878a595a5249",
   "metadata": {},
   "outputs": [
    {
     "name": "stdout",
     "output_type": "stream",
     "text": [
      "sparrow is speaking\n",
      "sparrowis eating\n",
      "sparrow is flying\n"
     ]
    }
   ],
   "source": [
    "bird=brid(\"sparrow\")\n",
    "bird.speak() \n",
    "bird.eat()\n",
    "bird.fly()"
   ]
  },
  {
   "cell_type": "markdown",
   "id": "5e2f2298-f31d-4062-80e8-0162936240e5",
   "metadata": {},
   "source": [
    "Q4. What are getter and setter in python? Create a class and create a getter and a setter method in this\n",
    "class."
   ]
  },
  {
   "cell_type": "code",
   "execution_count": 41,
   "id": "7cb0f41d-a3ea-4d3d-a7e8-3efae831b2d5",
   "metadata": {},
   "outputs": [
    {
     "name": "stdout",
     "output_type": "stream",
     "text": [
      "setter method called\n",
      "getter method called\n",
      "19\n"
     ]
    }
   ],
   "source": [
    "class My_class:\n",
    "     def __init__(self):\n",
    "          self._age = 0\n",
    "       \n",
    "     @property\n",
    "     def age(self):\n",
    "         print(\"getter method called\")\n",
    "         return self._age\n",
    "       \n",
    "     @age.setter\n",
    "     def age(self, a):\n",
    "         if(a < 18):\n",
    "            raise ValueError(\"Sorry you age is below eligibility criteria\")\n",
    "         print(\"setter method called\")\n",
    "         self._age = a\n",
    "  \n",
    "mark = My_class()\n",
    "  \n",
    "mark.age = 19\n",
    "  \n",
    "print(mark.age)"
   ]
  },
  {
   "cell_type": "code",
   "execution_count": 42,
   "id": "09010b92-3e06-4046-ab07-c0670240c471",
   "metadata": {},
   "outputs": [
    {
     "name": "stdout",
     "output_type": "stream",
     "text": [
      "67\n"
     ]
    }
   ],
   "source": [
    "class Myclass:\n",
    "    def __init__(self):\n",
    "        self._my_value=0\n",
    "        \n",
    "    @property\n",
    "    def get_my_value(self):\n",
    "        return self._my_value\n",
    "    @get_my_value.setter\n",
    "    def get_my_value(self,value):\n",
    "        if value>0:\n",
    "            self._my_value=value\n",
    "        else:\n",
    "            print(\"Invalid value! Attribute must be greater than 0.\")\n",
    "obj1=My_class()\n",
    "obj1.get_my_value=67\n",
    "print(obj1.get_my_value)"
   ]
  },
  {
   "cell_type": "markdown",
   "id": "159eac50-c1b1-406a-8803-529f12c9b8e2",
   "metadata": {},
   "source": [
    "Q5.What is method overriding in python? Write a python code to demonstrate method overriding."
   ]
  },
  {
   "cell_type": "markdown",
   "id": "aa7d34c3-6cee-4992-b99f-442bbe407cd7",
   "metadata": {},
   "source": [
    "Method overriding is a feature of object-oriented programming languages where the subclass or child class can provide the program with specific characteristics or a specific implementation process of data provided that are already defined in the parent class or superclass"
   ]
  },
  {
   "cell_type": "code",
   "execution_count": 34,
   "id": "91932849-137a-450e-a7f8-dd0fa75c309d",
   "metadata": {},
   "outputs": [],
   "source": [
    "class Parent():\n",
    "      \n",
    "    # Constructor\n",
    "    def __init__(self):\n",
    "        self.value = \"Inside Parent\"\n",
    "          \n",
    "    # Parent's show method\n",
    "    def show(self):\n",
    "        print(self.value)\n",
    "# Defining child class\n",
    "class Child(Parent):\n",
    "      \n",
    "    # Constructor\n",
    "    def __init__(self):\n",
    "        self.value = \"Inside Child\"\n",
    "          \n",
    "    # Child's show method\n",
    "    def show(self):\n",
    "        print(self.value)"
   ]
  },
  {
   "cell_type": "code",
   "execution_count": 36,
   "id": "41c2476f-2d34-474d-8273-1e62f1de7b4f",
   "metadata": {},
   "outputs": [],
   "source": [
    "obj1 = Parent()\n"
   ]
  },
  {
   "cell_type": "code",
   "execution_count": 37,
   "id": "d954af06-e5da-4db0-9dd3-78b9a6cd6dbe",
   "metadata": {},
   "outputs": [],
   "source": [
    "\n",
    "obj2 = Child()"
   ]
  },
  {
   "cell_type": "code",
   "execution_count": 38,
   "id": "a9863236-0b61-4b2e-9d82-529d0ae483da",
   "metadata": {},
   "outputs": [
    {
     "name": "stdout",
     "output_type": "stream",
     "text": [
      "Inside Parent\n"
     ]
    }
   ],
   "source": [
    "obj1.show()\n"
   ]
  },
  {
   "cell_type": "code",
   "execution_count": 39,
   "id": "bebe4279-902a-4135-bc2d-906591fe313c",
   "metadata": {},
   "outputs": [
    {
     "name": "stdout",
     "output_type": "stream",
     "text": [
      "Inside Child\n"
     ]
    }
   ],
   "source": [
    "obj2.show()"
   ]
  },
  {
   "cell_type": "code",
   "execution_count": null,
   "id": "8862a48d-0f88-490f-b6f2-31be1ca4415f",
   "metadata": {},
   "outputs": [],
   "source": []
  }
 ],
 "metadata": {
  "kernelspec": {
   "display_name": "Python 3 (ipykernel)",
   "language": "python",
   "name": "python3"
  },
  "language_info": {
   "codemirror_mode": {
    "name": "ipython",
    "version": 3
   },
   "file_extension": ".py",
   "mimetype": "text/x-python",
   "name": "python",
   "nbconvert_exporter": "python",
   "pygments_lexer": "ipython3",
   "version": "3.10.8"
  }
 },
 "nbformat": 4,
 "nbformat_minor": 5
}
