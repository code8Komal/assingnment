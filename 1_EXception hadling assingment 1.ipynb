{
 "cells": [
  {
   "cell_type": "markdown",
   "id": "3a0be6a1-0a28-4299-bbed-8e8dfe27359a",
   "metadata": {},
   "source": [
    "What is an Exception in python? Write the differen,e between Exceptions and syntaxs errors"
   ]
  },
  {
   "cell_type": "markdown",
   "id": "406ba582-0942-4c75-9bd4-a1b459073b3d",
   "metadata": {},
   "source": [
    "exceptions are raised when some internal events occur which changes the normal flow of the program.\n",
    "An error is an issue in a program that prevents the program from completing its task. In comparison, an exception is a condition that interrupts the normal flow of the program"
   ]
  },
  {
   "cell_type": "markdown",
   "id": "8bc38c42-082a-4bc1-a6cc-678f9cffc703",
   "metadata": {},
   "source": [
    "what happen exception not handled ?explain with an example in python"
   ]
  },
  {
   "cell_type": "markdown",
   "id": "585702f9-49f6-4be5-997e-df1f111e5518",
   "metadata": {},
   "source": [
    "If the exception is not handled by an except clause, the exception is re-raised after the finally clause has been executed"
   ]
  },
  {
   "cell_type": "markdown",
   "id": "9c685100-50e3-4d45-9f79-9035e730e49f",
   "metadata": {},
   "source": [
    "In Python, when an exception is not handled, it means that no code block exists to catch and deal with the exception when it occurs"
   ]
  },
  {
   "cell_type": "code",
   "execution_count": 1,
   "id": "4ca9d0b1-f4c0-4c2c-a91e-63f2bc251533",
   "metadata": {},
   "outputs": [
    {
     "ename": "ZeroDivisionError",
     "evalue": "division by zero",
     "output_type": "error",
     "traceback": [
      "\u001b[0;31m---------------------------------------------------------------------------\u001b[0m",
      "\u001b[0;31mZeroDivisionError\u001b[0m                         Traceback (most recent call last)",
      "Cell \u001b[0;32mIn[1], line 2\u001b[0m\n\u001b[1;32m      1\u001b[0m \u001b[38;5;66;03m#when we not use exception our program show error and terminated\u001b[39;00m\n\u001b[0;32m----> 2\u001b[0m \u001b[38;5;241;43m10\u001b[39;49m\u001b[38;5;241;43m/\u001b[39;49m\u001b[38;5;241;43m0\u001b[39;49m\n",
      "\u001b[0;31mZeroDivisionError\u001b[0m: division by zero"
     ]
    }
   ],
   "source": [
    "#when we not use exception our program show error and terminated\n",
    "10/0"
   ]
  },
  {
   "cell_type": "code",
   "execution_count": 3,
   "id": "c6dcf0c7-3317-41be-8bf9-f04ec35b7d26",
   "metadata": {},
   "outputs": [],
   "source": [
    "import logging\n",
    "\n",
    "logging.basicConfig(filename=\"error1.log\", level=logging.ERROR)\n",
    "\n",
    "def divide_numbers(a, b):\n",
    "    result = None\n",
    "    try:\n",
    "        result = a / b\n",
    "    except ZeroDivisionError as e:\n",
    "        logging.error(\"I am trying to handle the exception, that is ZeroDivisionError: {}\".format(e))\n",
    "    return result\n",
    "\n",
    "result = divide_numbers(3, 0)\n",
    "logging.error(\"The result is: {}\".format(result))\n",
    "\n"
   ]
  },
  {
   "cell_type": "markdown",
   "id": "d24fe72b-bc66-4604-90eb-20592b628c46",
   "metadata": {},
   "source": [
    "which Python statement is used to handle exception handling explain with example"
   ]
  },
  {
   "cell_type": "markdown",
   "id": "3319b1d3-795f-4845-9e1a-d34f15bf4e3c",
   "metadata": {},
   "source": [
    "Try and Except Statement – Catching Exceptions\n",
    "Try and except statements are used to catch and handle exceptions in Python. Statements that can raise exceptions are kept inside the try clause and the statements that handle the exception are written inside except clause"
   ]
  },
  {
   "cell_type": "code",
   "execution_count": 2,
   "id": "77af867d-35ee-4966-b16a-1e37a4d71972",
   "metadata": {},
   "outputs": [],
   "source": [
    "try:\n",
    "    with open(\"file1.txt\",'w') as f:\n",
    "        f.write(\"this is my data to file\")\n",
    "except FileNotFoundError as e:\n",
    "    logging.error(\"i am handling file not found {}\".format(e))\n",
    "finally:\n",
    "    f.close()"
   ]
  },
  {
   "cell_type": "markdown",
   "id": "d0f3284a-d0df-4760-bda9-5eb0e809833b",
   "metadata": {},
   "source": [
    "Q4. Explain with an example:\n",
    "1)try and else:-"
   ]
  },
  {
   "cell_type": "code",
   "execution_count": 4,
   "id": "f5c53c23-03ba-47cb-88da-7049855cef2f",
   "metadata": {},
   "outputs": [
    {
     "name": "stdout",
     "output_type": "stream",
     "text": [
      "Yeah ! Your answer is : 1\n",
      "Sorry ! You are dividing by zero \n"
     ]
    }
   ],
   "source": [
    "# Python code to illustrate\n",
    "# working of try() \n",
    "def divide(x, y):\n",
    "    try:\n",
    "        # Floor Division : Gives only Fractional\n",
    "        # Part as Answer\n",
    "        result = x // y\n",
    "    except ZeroDivisionError:\n",
    "        print(\"Sorry ! You are dividing by zero \")\n",
    "    else:\n",
    "        print(\"Yeah ! Your answer is :\", result)\n",
    "   \n",
    "# Look at parameters and note the working of Program\n",
    "divide(3, 2)\n",
    "divide(3, 0)"
   ]
  },
  {
   "cell_type": "code",
   "execution_count": 5,
   "id": "ffe8a7ec-ed2d-4268-99df-de7b6a2eaeca",
   "metadata": {},
   "outputs": [
    {
     "name": "stdout",
     "output_type": "stream",
     "text": [
      "number is divisible by y False\n"
     ]
    }
   ],
   "source": [
    "#working of try\n",
    "def divisible(x,y):\n",
    "    try:\n",
    "        result=x%y==0\n",
    "    except ZeroDivisionError:\n",
    "        print(\"Sorry ! You are dividing by zero \")\n",
    "    else:\n",
    "        print(\"number is divisible by y\",result )\n",
    "divisible(3,2)   "
   ]
  },
  {
   "cell_type": "code",
   "execution_count": null,
   "id": "edc5db64-9acf-46d3-a756-484ca87428fc",
   "metadata": {},
   "outputs": [],
   "source": [
    "b)finally"
   ]
  },
  {
   "cell_type": "code",
   "execution_count": 6,
   "id": "5a4befe4-ec16-4fff-92a8-adbf1ab24405",
   "metadata": {},
   "outputs": [
    {
     "name": "stdout",
     "output_type": "stream",
     "text": [
      "Yeah ! Your answer is : 1\n",
      "This is always executed\n",
      "Sorry ! You are dividing by zero \n",
      "This is always executed\n"
     ]
    }
   ],
   "source": [
    "# Python code to illustrate\n",
    "# working of try() \n",
    "def divide(x, y):\n",
    "    try:\n",
    "        # Floor Division : Gives only Fractional\n",
    "        # Part as Answer\n",
    "        result = x // y\n",
    "    except ZeroDivisionError:\n",
    "        print(\"Sorry ! You are dividing by zero \")\n",
    "    else:\n",
    "        print(\"Yeah ! Your answer is :\", result)\n",
    "    finally: \n",
    "        # this block is always executed  \n",
    "        # regardless of exception generation. \n",
    "        print('This is always executed')  \n",
    " \n",
    "# Look at parameters and note the working of Program\n",
    "divide(3, 2)\n",
    "divide(3, 0)"
   ]
  },
  {
   "cell_type": "markdown",
   "id": "a108cac7-c2e7-428f-8712-c2365c0f6bc7",
   "metadata": {},
   "source": [
    "c)raise"
   ]
  },
  {
   "cell_type": "code",
   "execution_count": 7,
   "id": "d2bf6846-699c-4ad9-ab64-f569d9fd152f",
   "metadata": {},
   "outputs": [
    {
     "ename": "ValueError",
     "evalue": "String can't be changed into integer",
     "output_type": "error",
     "traceback": [
      "\u001b[0;31m---------------------------------------------------------------------------\u001b[0m",
      "\u001b[0;31mValueError\u001b[0m                                Traceback (most recent call last)",
      "Cell \u001b[0;32mIn[7], line 4\u001b[0m\n\u001b[1;32m      3\u001b[0m \u001b[38;5;28;01mtry\u001b[39;00m:\n\u001b[0;32m----> 4\u001b[0m     num \u001b[38;5;241m=\u001b[39m \u001b[38;5;28;43mint\u001b[39;49m\u001b[43m(\u001b[49m\u001b[43ms\u001b[49m\u001b[43m)\u001b[49m\n\u001b[1;32m      5\u001b[0m \u001b[38;5;28;01mexcept\u001b[39;00m \u001b[38;5;167;01mValueError\u001b[39;00m:\n",
      "\u001b[0;31mValueError\u001b[0m: invalid literal for int() with base 10: 'apple'",
      "\nDuring handling of the above exception, another exception occurred:\n",
      "\u001b[0;31mValueError\u001b[0m                                Traceback (most recent call last)",
      "Cell \u001b[0;32mIn[7], line 6\u001b[0m\n\u001b[1;32m      4\u001b[0m     num \u001b[38;5;241m=\u001b[39m \u001b[38;5;28mint\u001b[39m(s)\n\u001b[1;32m      5\u001b[0m \u001b[38;5;28;01mexcept\u001b[39;00m \u001b[38;5;167;01mValueError\u001b[39;00m:\n\u001b[0;32m----> 6\u001b[0m     \u001b[38;5;28;01mraise\u001b[39;00m \u001b[38;5;167;01mValueError\u001b[39;00m(\u001b[38;5;124m\"\u001b[39m\u001b[38;5;124mString can\u001b[39m\u001b[38;5;124m'\u001b[39m\u001b[38;5;124mt be changed into integer\u001b[39m\u001b[38;5;124m\"\u001b[39m)\n",
      "\u001b[0;31mValueError\u001b[0m: String can't be changed into integer"
     ]
    }
   ],
   "source": [
    "s = 'apple'\n",
    "  \n",
    "try:\n",
    "    num = int(s)\n",
    "except ValueError:\n",
    "    raise ValueError(\"String can't be changed into integer\")"
   ]
  },
  {
   "cell_type": "code",
   "execution_count": 8,
   "id": "d02f1569-9c88-4f87-bd62-f28b55ff813d",
   "metadata": {},
   "outputs": [
    {
     "ename": "Exception",
     "evalue": "The number shouldn't be an odd integer",
     "output_type": "error",
     "traceback": [
      "\u001b[0;31m---------------------------------------------------------------------------\u001b[0m",
      "\u001b[0;31mException\u001b[0m                                 Traceback (most recent call last)",
      "Cell \u001b[0;32mIn[8], line 4\u001b[0m\n\u001b[1;32m      1\u001b[0m a \u001b[38;5;241m=\u001b[39m \u001b[38;5;241m5\u001b[39m\n\u001b[1;32m      3\u001b[0m \u001b[38;5;28;01mif\u001b[39;00m a \u001b[38;5;241m%\u001b[39m \u001b[38;5;241m2\u001b[39m \u001b[38;5;241m!=\u001b[39m \u001b[38;5;241m0\u001b[39m:\n\u001b[0;32m----> 4\u001b[0m     \u001b[38;5;28;01mraise\u001b[39;00m \u001b[38;5;167;01mException\u001b[39;00m(\u001b[38;5;124m\"\u001b[39m\u001b[38;5;124mThe number shouldn\u001b[39m\u001b[38;5;124m'\u001b[39m\u001b[38;5;124mt be an odd integer\u001b[39m\u001b[38;5;124m\"\u001b[39m)\n",
      "\u001b[0;31mException\u001b[0m: The number shouldn't be an odd integer"
     ]
    }
   ],
   "source": [
    "a = 5\n",
    "  \n",
    "if a % 2 != 0:\n",
    "    raise Exception(\"The number shouldn't be an odd integer\")"
   ]
  },
  {
   "cell_type": "code",
   "execution_count": null,
   "id": "4c800646-adad-4224-931b-a545c4ddb5d9",
   "metadata": {},
   "outputs": [],
   "source": [
    "Q5. What are Custom Exceptions in python?Why do we need Custom Exceptions?Explain withan example"
   ]
  },
  {
   "cell_type": "markdown",
   "id": "e465b728-6a82-4bee-b0de-e23b4f95389d",
   "metadata": {},
   "source": [
    "Custom or User-defined Exceptions are designed as per the requirement of the program. Using custom Exception we can have our own Exception and a meaningful message explaining the cause of the exception. We can create an exception by extending the Exception or RuntimeException class in our own Exception class."
   ]
  },
  {
   "cell_type": "markdown",
   "id": "4a101775-51d4-4ad3-b40c-3f35b12dcc75",
   "metadata": {},
   "source": [
    "Built-in exceptions offer information about Python-related problems, and custom exceptions will add information about project-related problems. That way, you can design your code (and traceback, if an exception is raised) in a way that combines Python code with the language of the project."
   ]
  },
  {
   "cell_type": "code",
   "execution_count": 9,
   "id": "37573127-4d4b-4898-bf87-81248777eca4",
   "metadata": {},
   "outputs": [],
   "source": [
    "class validateage(Exception):\n",
    "    def __init__(self,msg):\n",
    "        self.msg=msg"
   ]
  },
  {
   "cell_type": "code",
   "execution_count": 10,
   "id": "2d6d7a3a-6182-40ce-9b11-0cd2c54e8107",
   "metadata": {},
   "outputs": [],
   "source": [
    "def validatage(marke):\n",
    "    if marke<0:\n",
    "        raise validateage(\"entered marke is negative\")\n",
    "    elif marke>100:\n",
    "        raise validateage(\"enterd marke is not valid\" )\n",
    "    else:\n",
    "        print(\"marke is valid\")"
   ]
  },
  {
   "cell_type": "code",
   "execution_count": 11,
   "id": "36d8ec4d-07eb-4090-9154-7365002cc261",
   "metadata": {},
   "outputs": [
    {
     "name": "stdin",
     "output_type": "stream",
     "text": [
      "enter youre marke -9\n"
     ]
    },
    {
     "name": "stdout",
     "output_type": "stream",
     "text": [
      "entered marke is negative\n"
     ]
    }
   ],
   "source": [
    "try:\n",
    "    marke=int(input(\"enter youre marke\"))\n",
    "    validatage(marke)\n",
    "except validateage as e:\n",
    "    print(e)"
   ]
  },
  {
   "cell_type": "code",
   "execution_count": 1,
   "id": "1df6e33d-4be5-42f7-a53a-34748e3dfb59",
   "metadata": {},
   "outputs": [
    {
     "name": "stdin",
     "output_type": "stream",
     "text": [
      "Enter a number:  20\n"
     ]
    },
    {
     "name": "stdout",
     "output_type": "stream",
     "text": [
      "Eligible to Vote\n"
     ]
    }
   ],
   "source": [
    "# define Python user-defined exceptions\n",
    "class InvalidAgeException(Exception):\n",
    "    \"Raised when the input value is less than 18\"\n",
    "    pass\n",
    "\n",
    "# you need to guess this number\n",
    "number = 18\n",
    "try:\n",
    "    input_num = int(input(\"Enter a number: \"))\n",
    "    if input_num < number:\n",
    "        raise InvalidAgeException\n",
    "    else:\n",
    "        print(\"Eligible to Vote\")\n",
    "        \n",
    "except InvalidAgeException:\n",
    "    print(\"Exception occurred: Invalid Age\")"
   ]
  },
  {
   "cell_type": "markdown",
   "id": "642c058b-0b17-4291-9697-edf0ec898b51",
   "metadata": {},
   "source": [
    "Q6. Create a class custom exception ,calss. Use this ,calss to handle an exception."
   ]
  },
  {
   "cell_type": "code",
   "execution_count": 3,
   "id": "3fd789db-564d-4170-be0f-fb62d5ea86db",
   "metadata": {},
   "outputs": [
    {
     "name": "stdin",
     "output_type": "stream",
     "text": [
      "Enter salary amount:  50000\n"
     ]
    },
    {
     "ename": "SalaryNotInRangeError",
     "evalue": "Salary is not in (5000, 15000) range",
     "output_type": "error",
     "traceback": [
      "\u001b[0;31m---------------------------------------------------------------------------\u001b[0m",
      "\u001b[0;31mSalaryNotInRangeError\u001b[0m                     Traceback (most recent call last)",
      "Cell \u001b[0;32mIn[3], line 17\u001b[0m\n\u001b[1;32m     15\u001b[0m salary \u001b[38;5;241m=\u001b[39m \u001b[38;5;28mint\u001b[39m(\u001b[38;5;28minput\u001b[39m(\u001b[38;5;124m\"\u001b[39m\u001b[38;5;124mEnter salary amount: \u001b[39m\u001b[38;5;124m\"\u001b[39m))\n\u001b[1;32m     16\u001b[0m \u001b[38;5;28;01mif\u001b[39;00m \u001b[38;5;129;01mnot\u001b[39;00m \u001b[38;5;241m5000\u001b[39m \u001b[38;5;241m<\u001b[39m salary \u001b[38;5;241m<\u001b[39m \u001b[38;5;241m15000\u001b[39m:\n\u001b[0;32m---> 17\u001b[0m     \u001b[38;5;28;01mraise\u001b[39;00m SalaryNotInRangeError(salary)\n",
      "\u001b[0;31mSalaryNotInRangeError\u001b[0m: Salary is not in (5000, 15000) range"
     ]
    }
   ],
   "source": [
    "class SalaryNotInRangeError(Exception):\n",
    "    \"\"\"Exception raised for errors in the input salary.\n",
    "\n",
    "    Attributes:\n",
    "        salary -- input salary which caused the error\n",
    "        message -- explanation of the error\n",
    "    \"\"\"\n",
    "\n",
    "    def __init__(self, salary, message=\"Salary is not in (5000, 15000) range\"):\n",
    "        self.salary = salary\n",
    "        self.message = message\n",
    "        super().__init__(self.message)\n",
    "\n",
    "\n",
    "salary = int(input(\"Enter salary amount: \"))\n",
    "if not 5000 < salary < 15000:\n",
    "    raise SalaryNotInRangeError(salary)"
   ]
  },
  {
   "cell_type": "code",
   "execution_count": null,
   "id": "67508d36-d4ed-4300-aca4-ab229739efb7",
   "metadata": {},
   "outputs": [],
   "source": []
  },
  {
   "cell_type": "code",
   "execution_count": null,
   "id": "5b46a045-e08e-4b61-8a22-f0306fdc89fc",
   "metadata": {},
   "outputs": [],
   "source": []
  }
 ],
 "metadata": {
  "kernelspec": {
   "display_name": "Python 3 (ipykernel)",
   "language": "python",
   "name": "python3"
  },
  "language_info": {
   "codemirror_mode": {
    "name": "ipython",
    "version": 3
   },
   "file_extension": ".py",
   "mimetype": "text/x-python",
   "name": "python",
   "nbconvert_exporter": "python",
   "pygments_lexer": "ipython3",
   "version": "3.10.8"
  }
 },
 "nbformat": 4,
 "nbformat_minor": 5
}
